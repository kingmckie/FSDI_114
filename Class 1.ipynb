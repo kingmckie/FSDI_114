{
 "cells": [
  {
   "cell_type": "code",
   "execution_count": 3,
   "id": "7e01db43-bf78-46dd-aaf8-76af5711ede5",
   "metadata": {},
   "outputs": [
    {
     "name": "stdout",
     "output_type": "stream",
     "text": [
      "h\n",
      "e\n",
      "l\n",
      "l\n",
      "o\n",
      ",\n",
      " \n",
      "w\n",
      "o\n",
      "r\n",
      "l\n",
      "d\n",
      "!\n"
     ]
    }
   ],
   "source": [
    "for char in \"hello, world!\":\n",
    "    print(char)\n",
    "    "
   ]
  },
  {
   "cell_type": "markdown",
   "id": "4658d192-5354-4afe-9f0e-1dd6f8cbfca8",
   "metadata": {},
   "source": [
    "# Problem 1\n",
    "## Anagram Check\n",
    "### Given two strings as parmeters, generate a function that returns True if these are anagrams of each other, False otherwise.\n",
    "\n",
    "#### Criteria\n",
    "two strings are anagrams of each other if all of the conditions below are met:\n",
    "1. They must use the same exact lettersm the same amount of times.\n",
    "2. They mist be of equal length.\n",
    "\n",
    "````\n",
    "\n",
    "Examples:\n",
    "1. Cars and scar\n",
    "2. Heart and earth\n",
    "3. Star and rats\n",
    "`````"
   ]
  },
  {
   "cell_type": "code",
   "execution_count": 4,
   "id": "4787dfb4-f1f4-49a4-a874-da94bde21b57",
   "metadata": {},
   "outputs": [],
   "source": [
    "# In the popular Harry Potter saga\n",
    "## the villain's name is chosen because their \"human\" name \"Tom Marvolo Riddle\" is \n",
    "### an anagram of \"I am Lord Voldemort\""
   ]
  },
  {
   "cell_type": "code",
   "execution_count": 5,
   "id": "3f063d38-f2a6-42c3-adab-80d569239109",
   "metadata": {},
   "outputs": [
    {
     "ename": "SyntaxError",
     "evalue": "invalid syntax (1622167499.py, line 1)",
     "output_type": "error",
     "traceback": [
      "\u001b[0;36m  Cell \u001b[0;32mIn[5], line 1\u001b[0;36m\u001b[0m\n\u001b[0;31m    string1 = string1 in lower case\u001b[0m\n\u001b[0m                               ^\u001b[0m\n\u001b[0;31mSyntaxError\u001b[0m\u001b[0;31m:\u001b[0m invalid syntax\n"
     ]
    }
   ],
   "source": [
    "string1 = string1 in lower case\n",
    "string2 = string2 in lower case\n",
    "string1 = string1 without spaces\n",
    "string2 = string2 without spaces\n",
    "if string1 and string2 are not of equal lenth:\n",
    "return false\n",
    "//handle case where String1 and string2 are of equal length:\n",
    "##string1 and string2 have to have the same occurences of the same characters\n",
    " string1 length and string2 length: \n",
    "##dictionary is a key value \"a:<# of occurences>\"\n",
    "character_occurences_1 is going to = a dictionary to store count of characters1\n",
    "character_occurences_2 is going to = a dicitonary to store count of characters2\n",
    "\n",
    "\n",
    "\n"
   ]
  }
 ],
 "metadata": {
  "kernelspec": {
   "display_name": "Python 3 (ipykernel)",
   "language": "python",
   "name": "python3"
  },
  "language_info": {
   "codemirror_mode": {
    "name": "ipython",
    "version": 3
   },
   "file_extension": ".py",
   "mimetype": "text/x-python",
   "name": "python",
   "nbconvert_exporter": "python",
   "pygments_lexer": "ipython3",
   "version": "3.10.12"
  }
 },
 "nbformat": 4,
 "nbformat_minor": 5
}
