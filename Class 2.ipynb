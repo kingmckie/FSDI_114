{
 "cells": [
  {
   "cell_type": "markdown",
   "id": "af6415d4-ec29-4505-9b77-c68c1f6f6a67",
   "metadata": {},
   "source": [
    "Stacks"
   ]
  },
  {
   "cell_type": "code",
   "execution_count": 19,
   "id": "7ea92685-78a0-4263-8dde-32cf072b7792",
   "metadata": {},
   "outputs": [],
   "source": [
    "# A simplified implementation (relying on builts-in)\n",
    "\n",
    "class Stack:\n",
    "    def __init__(self):\n",
    "        self.items = []\n",
    "\n",
    "    def push(self, value):\n",
    "        self.items.append(value)\n",
    "\n",
    "    def pop(self):\n",
    "        return self.items.pop()\n",
    "\n",
    "    # nice to have methods\n",
    "    def peek(self):\n",
    "        return self.items[len(self.items)-1]\n",
    "\n",
    "    def size(self):\n",
    "        return len(self.items)\n",
    "\n",
    "    def is_empty(self):\n",
    "        return self.items ==[]"
   ]
  },
  {
   "cell_type": "code",
   "execution_count": 13,
   "id": "c6d763ad-82f8-4adf-96c2-c294bffbf956",
   "metadata": {},
   "outputs": [],
   "source": [
    "# function that inverts a string using a stack\n",
    "\n",
    "def invert_str(mystring):\n",
    "    stack = Stack()\n",
    "    for char in mystring:\n",
    "        stack.push(char)\n",
    "    out = \"\"\n",
    "    while not stack.is_empty():\n",
    "        out += stack.pop()\n",
    "    return out"
   ]
  },
  {
   "cell_type": "code",
   "execution_count": 20,
   "id": "76476a8c-c4ab-4352-b115-27823bca09a7",
   "metadata": {},
   "outputs": [
    {
     "data": {
      "text/plain": [
       "'kraM'"
      ]
     },
     "execution_count": 20,
     "metadata": {},
     "output_type": "execute_result"
    }
   ],
   "source": [
    "invert_str(\"Mark\")"
   ]
  },
  {
   "cell_type": "code",
   "execution_count": 21,
   "id": "5f36f7e2-38a1-4c40-8c22-d510c612797c",
   "metadata": {},
   "outputs": [],
   "source": [
    "# type conversion built-ins in python3\n",
    "a=int(\"5\")\n",
    "b=float(\"3.14\")\n",
    "c=str(5)\n",
    "d=bool(1)"
   ]
  },
  {
   "cell_type": "code",
   "execution_count": 22,
   "id": "cd57460b-af6c-4a93-a98b-be4382736d69",
   "metadata": {},
   "outputs": [
    {
     "name": "stdout",
     "output_type": "stream",
     "text": [
      "6\n",
      "5\n",
      "140572991078800\n",
      "140572991078768\n"
     ]
    }
   ],
   "source": [
    "# primary data types:\n",
    "# int, bool, float,\n",
    "# these all pass by value\n",
    "\n",
    "x=5\n",
    "y=x\n",
    "\n",
    "x+=1\n",
    "\n",
    "print(x)\n",
    "print(y)\n",
    "print(id(x))\n",
    "print(id(y))"
   ]
  },
  {
   "cell_type": "code",
   "execution_count": 23,
   "id": "13881f98-59e8-43d0-abd1-1ac36762cf28",
   "metadata": {},
   "outputs": [
    {
     "name": "stdout",
     "output_type": "stream",
     "text": [
      "[1, 2, 3, 4]\n",
      "[1, 2, 3, 4]\n",
      "140572871651392\n",
      "140572871651392\n"
     ]
    }
   ],
   "source": [
    "# other data types in python will pass by REFERENCE\n",
    "\n",
    "x=[1,2,3]\n",
    "y=x\n",
    "x.append (4)\n",
    "print(x)\n",
    "print(y)\n",
    "print(id(x))\n",
    "print(id(y))"
   ]
  },
  {
   "cell_type": "code",
   "execution_count": null,
   "id": "dde6a793-7159-4a8f-a345-0826033c62e7",
   "metadata": {},
   "outputs": [],
   "source": [
    "#from scratch implementation of stack\n",
    "class StackII:\n",
    "    class _Node:\n",
    "        def _init_(self, data):\n",
    "            self.data = data\n",
    "            self.below = None\n",
    "            \n",
    "    def _init_(self):\n",
    "        self.top = None\n",
    "        \n",
    "    def push(self, value):\n",
    "        new_node = self.__Node(value)\n",
    "        if not self.top:  #if self.top == None\n",
    "            self.top = new_node\n",
    "        else:\n",
    "            old_top = self.top\n",
    "            self.top = new_node\n",
    "            new_node.below = old_top\n",
    "            \n",
    "    def pop(self):\n",
    "        if self.top:\n",
    "            datum = self.top.data\n",
    "            self.top = self.top.below\n",
    "            return datum\n",
    "        raise IndexError(\"Stack is empty\")\n",
    "        \n",
    "    def peek(self):\n",
    "        if self.top:\n",
    "            return self.top.data\n",
    "        raise IndexError(\"Stack is empty\")\n",
    "            \n",
    "    def size(self):\n",
    "        count = 0\n",
    "        current = self.top\n",
    "        while current:\n",
    "            current = current.below\n",
    "            count += 1\n",
    "        return count\n",
    "            \n",
    "    def is_empty(self):\n",
    "        return self.top == None"
   ]
  }
 ],
 "metadata": {
  "kernelspec": {
   "display_name": "Python 3 (ipykernel)",
   "language": "python",
   "name": "python3"
  },
  "language_info": {
   "codemirror_mode": {
    "name": "ipython",
    "version": 3
   },
   "file_extension": ".py",
   "mimetype": "text/x-python",
   "name": "python",
   "nbconvert_exporter": "python",
   "pygments_lexer": "ipython3",
   "version": "3.10.12"
  }
 },
 "nbformat": 4,
 "nbformat_minor": 5
}
